{
  "nbformat": 4,
  "nbformat_minor": 0,
  "metadata": {
    "colab": {
      "name": "Yolo_pnemonia.ipynb",
      "version": "0.3.2",
      "provenance": [],
      "collapsed_sections": []
    },
    "kernelspec": {
      "name": "python3",
      "display_name": "Python 3"
    },
    "accelerator": "GPU"
  },
  "cells": [
    {
      "cell_type": "markdown",
      "metadata": {
        "id": "leMMkKI98sDs",
        "colab_type": "text"
      },
      "source": [
        "## Why Yolo?\n",
        "## The purpose of this competition is 'object detection'. Generally, object detection algorithms with deep learning take a long time to train model and require a lot of ## gpu resources. Most individual participants use one or two gpu (... or zero). Therefore, there is a need for algorithms that works quickly with less gpu resources.\n",
        "\n",
        "### Note: BEFORE RUNNING THIS NOTEBOOK, CHANGE THE NOTEBOOK SETTINGS TO \"GPU\" BY DEFAULT ITS CPU"
      ]
    },
    {
      "cell_type": "markdown",
      "metadata": {
        "id": "Vb3Dkaa94QEA",
        "colab_type": "text"
      },
      "source": [
        "### Installing and Loading libraries. Following is a brief description of some important libraries used in this code\n",
        "\n",
        "### 1.   pydicom is a pure python package for working with DICOM files\n",
        "### 2.   tqdm is used to a Instantly make loops show a smart progress meter\n",
        "### 3.   A library for image augmentation in machine learning experiments, particularly convolutional neural networks\n"
      ]
    },
    {
      "cell_type": "code",
      "metadata": {
        "id": "_mI3mt2XEGSa",
        "colab_type": "code",
        "colab": {}
      },
      "source": [
        "!pip3 install -q pydicom \n",
        "!pip3 install -q tqdm \n",
        "!pip3 install -q imgaug"
      ],
      "execution_count": 0,
      "outputs": []
    },
    {
      "cell_type": "code",
      "metadata": {
        "id": "BOAxmRwjESS9",
        "colab_type": "code",
        "colab": {}
      },
      "source": [
        "import math\n",
        "import os\n",
        "import shutil\n",
        "import sys\n",
        "\n",
        "import numpy as np\n",
        "import pandas as pd\n",
        "import matplotlib.pyplot as plt\n",
        "import seaborn as sns\n",
        "import glob\n",
        "import pydicom\n",
        "import cv2\n",
        "from sklearn.model_selection import train_test_split\n",
        "from tqdm import tqdm"
      ],
      "execution_count": 0,
      "outputs": []
    },
    {
      "cell_type": "code",
      "metadata": {
        "id": "YlM_ZKI3EfNY",
        "colab_type": "code",
        "colab": {}
      },
      "source": [
        "##Set the environment variables\n",
        "\n",
        "os.environ['KAGGLE_USERNAME']=\"chaitanya21796\" \n",
        "os.environ['KAGGLE_KEY']=\"19aa6ee7b86cde5a9cbc652380404988\"  "
      ],
      "execution_count": 0,
      "outputs": []
    },
    {
      "cell_type": "markdown",
      "metadata": {
        "colab_type": "text",
        "id": "Z-iyysmd6q6h"
      },
      "source": [
        "#A mapping object representing the string environment"
      ]
    },
    {
      "cell_type": "markdown",
      "metadata": {
        "id": "LYi3Thrs6UB0",
        "colab_type": "text"
      },
      "source": [
        "### Now below you have to enter your kaggle username and kaggle key and join this competetion\n",
        "### By joining competetion only you can download the data directly from kaggle"
      ]
    },
    {
      "cell_type": "code",
      "metadata": {
        "id": "LBKN-WEHEhbm",
        "colab_type": "code",
        "colab": {}
      },
      "source": [
        "ROOT_DIR = os.path.abspath('./kaggle_data')\n",
        "\n",
        "# Directory to save logs and trained model\n",
        "MODEL_DIR = os.path.join(ROOT_DIR, 'logs')\n",
        "\n",
        "if not os.path.exists(ROOT_DIR):\n",
        "    os.makedirs(ROOT_DIR)\n",
        "os.chdir(ROOT_DIR)"
      ],
      "execution_count": 0,
      "outputs": []
    },
    {
      "cell_type": "markdown",
      "metadata": {
        "id": "HRqUJOJ5qD3l",
        "colab_type": "text"
      },
      "source": [
        ""
      ]
    },
    {
      "cell_type": "code",
      "metadata": {
        "id": "kjZqy5lMEmET",
        "colab_type": "code",
        "outputId": "7d319ba2-20b1-4967-a30b-60b0ec75fc7f",
        "colab": {
          "base_uri": "https://localhost:8080/",
          "height": 348
        }
      },
      "source": [
        "!kaggle competitions download -c rsna-pneumonia-detection-challenge"
      ],
      "execution_count": 35,
      "outputs": [
        {
          "output_type": "stream",
          "text": [
            "Downloading stage_2_detailed_class_info.csv.zip to /content/kaggle_data/kaggle_data\n",
            "\r  0% 0.00/583k [00:00<?, ?B/s]\n",
            "100% 583k/583k [00:00<00:00, 41.0MB/s]\n",
            "Downloading stage_2_sample_submission.csv to /content/kaggle_data/kaggle_data\n",
            "  0% 0.00/155k [00:00<?, ?B/s]\n",
            "100% 155k/155k [00:00<00:00, 47.5MB/s]\n",
            "Downloading stage_2_train_labels.csv.zip to /content/kaggle_data/kaggle_data\n",
            "  0% 0.00/661k [00:00<?, ?B/s]\n",
            "100% 661k/661k [00:00<00:00, 90.8MB/s]\n",
            "Downloading stage_2_test_images.zip to /content/kaggle_data/kaggle_data\n",
            " 98% 369M/377M [00:02<00:00, 165MB/s]\n",
            "100% 377M/377M [00:02<00:00, 166MB/s]\n",
            "Downloading stage_2_train_images.zip to /content/kaggle_data/kaggle_data\n",
            "100% 3.28G/3.29G [00:23<00:00, 125MB/s]\n",
            "100% 3.29G/3.29G [00:24<00:00, 147MB/s]\n",
            "Downloading GCP%20Credits%20Request%20Link%20-%20RSNA.txt to /content/kaggle_data/kaggle_data\n",
            "  0% 0.00/55.0 [00:00<?, ?B/s]\n",
            "100% 55.0/55.0 [00:00<00:00, 107B/s]\n"
          ],
          "name": "stdout"
        }
      ]
    },
    {
      "cell_type": "markdown",
      "metadata": {
        "id": "L4tMjzuZ2ZeD",
        "colab_type": "text"
      },
      "source": [
        "#### Since the files are in zip format we will now unzip the files"
      ]
    },
    {
      "cell_type": "code",
      "metadata": {
        "id": "d6Nn2LXgEojd",
        "colab_type": "code",
        "colab": {}
      },
      "source": [
        "!unzip -q -o stage_2_test_images.zip -d stage_2_test_images\n",
        "!unzip -q -o stage_2_train_images.zip -d stage_2_train_images\n",
        "!unzip -q -o stage_2_train_labels.csv.zip"
      ],
      "execution_count": 0,
      "outputs": []
    },
    {
      "cell_type": "code",
      "metadata": {
        "id": "f4ii6m_3EqkR",
        "colab_type": "code",
        "colab": {}
      },
      "source": [
        "random_stat = 123\n",
        "np.random.seed(random_stat)"
      ],
      "execution_count": 0,
      "outputs": []
    },
    {
      "cell_type": "markdown",
      "metadata": {
        "id": "NH6f0bH_2gKD",
        "colab_type": "text"
      },
      "source": [
        "## Clone and Build YOLOv3"
      ]
    },
    {
      "cell_type": "code",
      "metadata": {
        "id": "BslSTsHeEtNI",
        "colab_type": "code",
        "outputId": "4d32144f-e34d-4243-abf2-e45f5ee124d9",
        "colab": {
          "base_uri": "https://localhost:8080/",
          "height": 311
        }
      },
      "source": [
        "!git clone https://github.com/pjreddie/darknet.git\n",
        "\n",
        "# Build gpu version darknet\n",
        "!cd darknet && sed '1 s/^.*$/GPU=1/; 2 s/^.*$/CUDNN=1/' -i Makefile\n",
        "\n",
        "# -j <The # of cpu cores to use>. Chang 999 to fit your environment.\n",
        "!cd darknet && make -j 999 -s\n",
        "!cp darknet/darknet darknet_gpu"
      ],
      "execution_count": 38,
      "outputs": [
        {
          "output_type": "stream",
          "text": [
            "Cloning into 'darknet'...\n",
            "remote: Enumerating objects: 5901, done.\u001b[K\n",
            "remote: Total 5901 (delta 0), reused 0 (delta 0), pack-reused 5901\u001b[K\n",
            "Receiving objects: 100% (5901/5901), 6.17 MiB | 22.57 MiB/s, done.\n",
            "Resolving deltas: 100% (3924/3924), done.\n",
            "\u001b[01m\u001b[K./src/gemm.c:\u001b[m\u001b[K In function ‘\u001b[01m\u001b[Ktime_gpu\u001b[m\u001b[K’:\n",
            "\u001b[01m\u001b[K./src/gemm.c:232:9:\u001b[m\u001b[K \u001b[01;35m\u001b[Kwarning: \u001b[m\u001b[K‘\u001b[01m\u001b[KcudaThreadSynchronize\u001b[m\u001b[K’ is deprecated [\u001b[01;35m\u001b[K-Wdeprecated-declarations\u001b[m\u001b[K]\n",
            "         \u001b[01;35m\u001b[KcudaThreadSynchronize\u001b[m\u001b[K();\n",
            "         \u001b[01;35m\u001b[K^~~~~~~~~~~~~~~~~~~~~\u001b[m\u001b[K\n",
            "In file included from \u001b[01m\u001b[K/usr/local/cuda/include/cuda_runtime.h:96:0\u001b[m\u001b[K,\n",
            "                 from \u001b[01m\u001b[Kinclude/darknet.h:11\u001b[m\u001b[K,\n",
            "                 from \u001b[01m\u001b[K./src/utils.h:5\u001b[m\u001b[K,\n",
            "                 from \u001b[01m\u001b[K./src/gemm.c:2\u001b[m\u001b[K:\n",
            "\u001b[01m\u001b[K/usr/local/cuda/include/cuda_runtime_api.h:947:57:\u001b[m\u001b[K \u001b[01;36m\u001b[Knote: \u001b[m\u001b[Kdeclared here\n",
            " extern __CUDA_DEPRECATED __host__ cudaError_t CUDARTAPI \u001b[01;36m\u001b[KcudaThreadSynchronize\u001b[m\u001b[K(void);\n",
            "                                                         \u001b[01;36m\u001b[K^~~~~~~~~~~~~~~~~~~~~\u001b[m\u001b[K\n"
          ],
          "name": "stdout"
        }
      ]
    },
    {
      "cell_type": "markdown",
      "metadata": {
        "id": "4P674wYs2nIi",
        "colab_type": "text"
      },
      "source": [
        "#### Data Migration for YOLOv3"
      ]
    },
    {
      "cell_type": "markdown",
      "metadata": {
        "id": "vNeBhlIp2teo",
        "colab_type": "text"
      },
      "source": [
        "#### Make subdirectories"
      ]
    },
    {
      "cell_type": "code",
      "metadata": {
        "id": "ZfRJsQWNExYb",
        "colab_type": "code",
        "colab": {}
      },
      "source": [
        "DATA_DIR = \"/content/kaggle_data\""
      ],
      "execution_count": 0,
      "outputs": []
    },
    {
      "cell_type": "code",
      "metadata": {
        "id": "kcaigG0KFIG7",
        "colab_type": "code",
        "colab": {}
      },
      "source": [
        "train_dcm_dir = os.path.join(DATA_DIR, \"stage_2_train_images\")\n",
        "test_dcm_dir = os.path.join(DATA_DIR, \"stage_2_test_images\")\n",
        "\n",
        "img_dir = os.path.join(os.getcwd(), \"images\")  # .jpg\n",
        "label_dir = os.path.join(os.getcwd(), \"labels\")  # .txt\n",
        "metadata_dir = os.path.join(os.getcwd(), \"metadata\") # .txt\n",
        "\n",
        "# YOLOv3 config file directory\n",
        "cfg_dir = os.path.join(os.getcwd(), \"cfg\")\n",
        "# YOLOv3 training checkpoints will be saved here\n",
        "backup_dir = os.path.join(os.getcwd(), \"backup\")\n",
        "\n",
        "for directory in [img_dir, label_dir, metadata_dir, cfg_dir, backup_dir]:\n",
        "    if os.path.isdir(directory):\n",
        "        continue\n",
        "    os.mkdir(directory)"
      ],
      "execution_count": 0,
      "outputs": []
    },
    {
      "cell_type": "code",
      "metadata": {
        "id": "sb1-jfjrFNTw",
        "colab_type": "code",
        "outputId": "c8b639dc-c13c-40d1-dca5-884969de309e",
        "colab": {
          "base_uri": "https://localhost:8080/",
          "height": 329
        }
      },
      "source": [
        "!ls -shtl"
      ],
      "execution_count": 41,
      "outputs": [
        {
          "output_type": "stream",
          "text": [
            "total 3.7G\n",
            "4.0K drwxr-xr-x  2 root root 4.0K May  6 02:51 backup\n",
            "4.0K drwxr-xr-x  2 root root 4.0K May  6 02:51 cfg\n",
            "4.0K drwxr-xr-x  2 root root 4.0K May  6 02:51 images\n",
            "4.0K drwxr-xr-x  2 root root 4.0K May  6 02:51 labels\n",
            "4.0K drwxr-xr-x  2 root root 4.0K May  6 02:51 metadata\n",
            "1.9M -rwxr-xr-x  1 root root 1.9M May  6 02:51 darknet_gpu\n",
            "4.0K drwxr-xr-x 13 root root 4.0K May  6 02:51 darknet\n",
            "1.7M drwxr-xr-x  2 root root 1.7M May  6 02:51 stage_2_train_images\n",
            "220K drwxr-xr-x  2 root root 220K May  6 02:50 stage_2_test_images\n",
            "4.0K -rw-r--r--  1 root root   55 May  6 02:50 GCP%20Credits%20Request%20Link%20-%20RSNA.txt\n",
            "3.3G -rw-r--r--  1 root root 3.3G May  6 02:50 stage_2_train_images.zip\n",
            "378M -rw-r--r--  1 root root 378M May  6 02:50 stage_2_test_images.zip\n",
            "664K -rw-r--r--  1 root root 662K May  6 02:50 stage_2_train_labels.csv.zip\n",
            "156K -rw-r--r--  1 root root 156K May  6 02:50 stage_2_sample_submission.csv\n",
            "584K -rw-r--r--  1 root root 584K May  6 02:50 stage_2_detailed_class_info.csv.zip\n",
            "1.5M ----------  1 root root 1.5M Oct 25  2018 stage_2_train_labels.csv\n"
          ],
          "name": "stdout"
        }
      ]
    },
    {
      "cell_type": "markdown",
      "metadata": {
        "id": "CSvKsi7t24Zy",
        "colab_type": "text"
      },
      "source": [
        "#### Load stage_2_train_labels.csv"
      ]
    },
    {
      "cell_type": "code",
      "metadata": {
        "id": "VwT29hSiFPn0",
        "colab_type": "code",
        "outputId": "4d6a2792-6d11-4129-9b58-7f632156155b",
        "colab": {
          "base_uri": "https://localhost:8080/",
          "height": 206
        }
      },
      "source": [
        "annots = pd.read_csv(os.path.join(DATA_DIR, \"stage_2_train_labels.csv\"))\n",
        "annots.head()"
      ],
      "execution_count": 42,
      "outputs": [
        {
          "output_type": "execute_result",
          "data": {
            "text/html": [
              "<div>\n",
              "<style scoped>\n",
              "    .dataframe tbody tr th:only-of-type {\n",
              "        vertical-align: middle;\n",
              "    }\n",
              "\n",
              "    .dataframe tbody tr th {\n",
              "        vertical-align: top;\n",
              "    }\n",
              "\n",
              "    .dataframe thead th {\n",
              "        text-align: right;\n",
              "    }\n",
              "</style>\n",
              "<table border=\"1\" class=\"dataframe\">\n",
              "  <thead>\n",
              "    <tr style=\"text-align: right;\">\n",
              "      <th></th>\n",
              "      <th>patientId</th>\n",
              "      <th>x</th>\n",
              "      <th>y</th>\n",
              "      <th>width</th>\n",
              "      <th>height</th>\n",
              "      <th>Target</th>\n",
              "    </tr>\n",
              "  </thead>\n",
              "  <tbody>\n",
              "    <tr>\n",
              "      <th>0</th>\n",
              "      <td>0004cfab-14fd-4e49-80ba-63a80b6bddd6</td>\n",
              "      <td>NaN</td>\n",
              "      <td>NaN</td>\n",
              "      <td>NaN</td>\n",
              "      <td>NaN</td>\n",
              "      <td>0</td>\n",
              "    </tr>\n",
              "    <tr>\n",
              "      <th>1</th>\n",
              "      <td>00313ee0-9eaa-42f4-b0ab-c148ed3241cd</td>\n",
              "      <td>NaN</td>\n",
              "      <td>NaN</td>\n",
              "      <td>NaN</td>\n",
              "      <td>NaN</td>\n",
              "      <td>0</td>\n",
              "    </tr>\n",
              "    <tr>\n",
              "      <th>2</th>\n",
              "      <td>00322d4d-1c29-4943-afc9-b6754be640eb</td>\n",
              "      <td>NaN</td>\n",
              "      <td>NaN</td>\n",
              "      <td>NaN</td>\n",
              "      <td>NaN</td>\n",
              "      <td>0</td>\n",
              "    </tr>\n",
              "    <tr>\n",
              "      <th>3</th>\n",
              "      <td>003d8fa0-6bf1-40ed-b54c-ac657f8495c5</td>\n",
              "      <td>NaN</td>\n",
              "      <td>NaN</td>\n",
              "      <td>NaN</td>\n",
              "      <td>NaN</td>\n",
              "      <td>0</td>\n",
              "    </tr>\n",
              "    <tr>\n",
              "      <th>4</th>\n",
              "      <td>00436515-870c-4b36-a041-de91049b9ab4</td>\n",
              "      <td>264.0</td>\n",
              "      <td>152.0</td>\n",
              "      <td>213.0</td>\n",
              "      <td>379.0</td>\n",
              "      <td>1</td>\n",
              "    </tr>\n",
              "  </tbody>\n",
              "</table>\n",
              "</div>"
            ],
            "text/plain": [
              "                              patientId      x      y  width  height  Target\n",
              "0  0004cfab-14fd-4e49-80ba-63a80b6bddd6    NaN    NaN    NaN     NaN       0\n",
              "1  00313ee0-9eaa-42f4-b0ab-c148ed3241cd    NaN    NaN    NaN     NaN       0\n",
              "2  00322d4d-1c29-4943-afc9-b6754be640eb    NaN    NaN    NaN     NaN       0\n",
              "3  003d8fa0-6bf1-40ed-b54c-ac657f8495c5    NaN    NaN    NaN     NaN       0\n",
              "4  00436515-870c-4b36-a041-de91049b9ab4  264.0  152.0  213.0   379.0       1"
            ]
          },
          "metadata": {
            "tags": []
          },
          "execution_count": 42
        }
      ]
    },
    {
      "cell_type": "markdown",
      "metadata": {
        "id": "mmq305sP29jK",
        "colab_type": "text"
      },
      "source": [
        "####Generate images and labels for training YOLOv3\n",
        "####YOLOv3 needs .txt file for each image, which contains ground truth object in the image that looks like:\n",
        "####     <object-class_1>   <x_1>   <y_1>   <width_1>   <height_1> \n",
        "####     <object-class_2>   <x_2>   <y_2>   <width_2>   <height_2>\n",
        "\n",
        "####  1. < object-class>: Since RSNA task is binary classification basically, <object-class> is 0.\n",
        "####  2. < x >, < y >: Those are float values of bbox center coordinate, divided by image width and height respectively.\n",
        "####  3. < w >, < h >: Those are width and height of bbox, divided by image width and height respectively.\n",
        "\n",
        "#### So it is different from the format of label data provided by kaggle. We should change it using the following function"
      ]
    },
    {
      "cell_type": "code",
      "metadata": {
        "id": "1YhInD2IFXmu",
        "colab_type": "code",
        "colab": {}
      },
      "source": [
        "def save_img_from_dcm(dcm_dir, img_dir, patient_id):\n",
        "    img_fp = os.path.join(img_dir, \"{}.jpg\".format(patient_id))\n",
        "    if os.path.exists(img_fp):\n",
        "        return\n",
        "    dcm_fp = os.path.join(dcm_dir, \"{}.dcm\".format(patient_id))\n",
        "    img_1ch = pydicom.read_file(dcm_fp).pixel_array\n",
        "    img_3ch = np.stack([img_1ch]*3, -1)\n",
        "\n",
        "    img_fp = os.path.join(img_dir, \"{}.jpg\".format(patient_id))\n",
        "    cv2.imwrite(img_fp, img_3ch)\n",
        "    \n",
        "def save_label_from_dcm(label_dir, patient_id, row=None):\n",
        "    # rsna defualt image size\n",
        "    img_size = 1024\n",
        "    label_fp = os.path.join(label_dir, \"{}.txt\".format(patient_id))\n",
        "    \n",
        "    f = open(label_fp, \"a\")\n",
        "    if row is None:\n",
        "        f.close()\n",
        "        return\n",
        "\n",
        "    top_left_x = row[1]\n",
        "    top_left_y = row[2]\n",
        "    w = row[3]\n",
        "    h = row[4]\n",
        "    \n",
        "    # 'r' means relative. 'c' means center.\n",
        "    rx = top_left_x/img_size\n",
        "    ry = top_left_y/img_size\n",
        "    rw = w/img_size\n",
        "    rh = h/img_size\n",
        "    rcx = rx+rw/2\n",
        "    rcy = ry+rh/2\n",
        "    \n",
        "    line = \"{} {} {} {} {}\\n\".format(0, rcx, rcy, rw, rh)\n",
        "    \n",
        "    f.write(line)\n",
        "    f.close()\n",
        "        \n",
        "def save_yolov3_data_from_rsna(dcm_dir, img_dir, label_dir, annots):\n",
        "    for row in tqdm(annots.values):\n",
        "        patient_id = row[0]\n",
        "\n",
        "        img_fp = os.path.join(img_dir, \"{}.jpg\".format(patient_id))\n",
        "        if os.path.exists(img_fp):\n",
        "            save_label_from_dcm(label_dir, patient_id, row)\n",
        "            continue\n",
        "\n",
        "        target = row[5]\n",
        "       \n",
        "        if target == 0:\n",
        "            continue\n",
        "        save_label_from_dcm(label_dir, patient_id, row)\n",
        "        save_img_from_dcm(dcm_dir, img_dir, patient_id)"
      ],
      "execution_count": 0,
      "outputs": []
    },
    {
      "cell_type": "code",
      "metadata": {
        "id": "3er6_3SAFeDR",
        "colab_type": "code",
        "outputId": "0c326425-1956-47cc-b5fe-e8669c9ccba5",
        "colab": {
          "base_uri": "https://localhost:8080/",
          "height": 35
        }
      },
      "source": [
        "save_yolov3_data_from_rsna(train_dcm_dir, img_dir, label_dir, annots)"
      ],
      "execution_count": 44,
      "outputs": [
        {
          "output_type": "stream",
          "text": [
            "100%|██████████| 30227/30227 [02:09<00:00, 232.93it/s]\n"
          ],
          "name": "stderr"
        }
      ]
    },
    {
      "cell_type": "code",
      "metadata": {
        "id": "4oibujU0FixP",
        "colab_type": "code",
        "outputId": "6d3719ad-7d15-4e1b-bdc5-5708250552ea",
        "colab": {
          "base_uri": "https://localhost:8080/",
          "height": 54
        }
      },
      "source": [
        "!du -sh images labels"
      ],
      "execution_count": 45,
      "outputs": [
        {
          "output_type": "stream",
          "text": [
            "990M\timages\n",
            "24M\tlabels\n"
          ],
          "name": "stdout"
        }
      ]
    },
    {
      "cell_type": "markdown",
      "metadata": {
        "id": "XBjIJmUH3PjH",
        "colab_type": "text"
      },
      "source": [
        "#### Let us plot a sample train image and label"
      ]
    },
    {
      "cell_type": "code",
      "metadata": {
        "id": "372SHqDsGBI3",
        "colab_type": "code",
        "outputId": "c4193ff9-aa4a-4bf7-c363-095fb20fb962",
        "colab": {
          "base_uri": "https://localhost:8080/",
          "height": 342
        }
      },
      "source": [
        "ex_patient_id = annots[annots.Target == 1].patientId.values[0]\n",
        "ex_img_path = os.path.join(img_dir, \"{}.jpg\".format(ex_patient_id))\n",
        "ex_label_path = os.path.join(label_dir, \"{}.txt\".format(ex_patient_id))\n",
        "\n",
        "plt.imshow(cv2.imread(ex_img_path))\n",
        "\n",
        "img_size = 1014\n",
        "with open(ex_label_path, \"r\") as f:\n",
        "    for line in f:\n",
        "        print(line)\n",
        "        class_id, rcx, rcy, rw, rh = list(map(float, line.strip().split()))\n",
        "        x = (rcx-rw/2)*img_size\n",
        "        y = (rcy-rh/2)*img_size\n",
        "        w = rw*img_size\n",
        "        h = rh*img_size\n",
        "        plt.plot([x, x, x+w, x+w, x], [y, y+h, y+h, y, y])"
      ],
      "execution_count": 46,
      "outputs": [
        {
          "output_type": "stream",
          "text": [
            "0 0.36181640625 0.33349609375 0.2080078125 0.3701171875\n",
            "\n",
            "0 0.673828125 0.36962890625 0.25 0.4423828125\n",
            "\n"
          ],
          "name": "stdout"
        },
        {
          "output_type": "display_data",
          "data": {
            "image/png": "[encoded data removed]",
            "text/plain": [
              "<Figure size 432x288 with 1 Axes>"
            ]
          },
          "metadata": {
            "tags": []
          }
        }
      ]
    },
    {
      "cell_type": "markdown",
      "metadata": {
        "id": "dg5j7Dly4Meg",
        "colab_type": "text"
      },
      "source": [
        "#### Generate train/val file path list (.txt)\n",
        "\n",
        "#### We should give the list of image paths to YOLO. two seperate list textfiles for training images and validation images."
      ]
    },
    {
      "cell_type": "code",
      "metadata": {
        "id": "NKjg6W9gGGAf",
        "colab_type": "code",
        "colab": {}
      },
      "source": [
        "def write_train_list(metadata_dir, img_dir, name, series):\n",
        "    list_fp = os.path.join(metadata_dir, name)\n",
        "    with open(list_fp, \"w\") as f:\n",
        "        for patient_id in series:\n",
        "            line = \"{}\\n\".format(os.path.join(img_dir, \"{}.jpg\".format(patient_id)))\n",
        "            f.write(line)"
      ],
      "execution_count": 0,
      "outputs": []
    },
    {
      "cell_type": "code",
      "metadata": {
        "id": "lknkajpxGcP5",
        "colab_type": "code",
        "outputId": "f06947a5-956e-4d3b-81e5-4e4546bd723c",
        "colab": {
          "base_uri": "https://localhost:8080/",
          "height": 35
        }
      },
      "source": [
        "patient_id_series = annots[annots.Target == 1].patientId.drop_duplicates()\n",
        "\n",
        "tr_series, val_series = train_test_split(patient_id_series, test_size=0.1, random_state=random_stat)\n",
        "print(\"The # of train set: {}, The # of validation set: {}\".format(tr_series.shape[0], val_series.shape[0]))\n",
        "\n",
        "# train image path list\n",
        "write_train_list(metadata_dir, img_dir, \"tr_list.txt\", tr_series)\n",
        "# validation image path list\n",
        "write_train_list(metadata_dir, img_dir, \"val_list.txt\", val_series)\n"
      ],
      "execution_count": 48,
      "outputs": [
        {
          "output_type": "stream",
          "text": [
            "The # of train set: 5410, The # of validation set: 602\n"
          ],
          "name": "stdout"
        }
      ]
    },
    {
      "cell_type": "markdown",
      "metadata": {
        "id": "Sd9oRemd4Spb",
        "colab_type": "text"
      },
      "source": [
        "#### Create test image and labels for YOLOv3"
      ]
    },
    {
      "cell_type": "code",
      "metadata": {
        "id": "HuC8vHvKGiUN",
        "colab_type": "code",
        "colab": {}
      },
      "source": [
        "def save_yolov3_test_data(test_dcm_dir, img_dir, metadata_dir, name, series):\n",
        "    list_fp = os.path.join(metadata_dir, name)\n",
        "    with open(list_fp, \"w\") as f:\n",
        "        for patient_id in series:\n",
        "            save_img_from_dcm(test_dcm_dir, img_dir, patient_id)\n",
        "            line = \"{}\\n\".format(os.path.join(img_dir, \"{}.jpg\".format(patient_id)))\n",
        "            f.write(line)"
      ],
      "execution_count": 0,
      "outputs": []
    },
    {
      "cell_type": "markdown",
      "metadata": {
        "id": "NgRAB9h44Xcb",
        "colab_type": "text"
      },
      "source": [
        "#### Plot a sample test Image"
      ]
    },
    {
      "cell_type": "code",
      "metadata": {
        "id": "p4auvCxjG0DV",
        "colab_type": "code",
        "colab": {}
      },
      "source": [
        "test_dcm_fps = list(set(glob.glob(os.path.join(test_dcm_dir, '*.dcm'))))\n",
        "test_dcm_fps = pd.Series(test_dcm_fps).apply(lambda dcm_fp: dcm_fp.strip().split(\"/\")[-1].replace(\".dcm\",\"\"))\n",
        "\n",
        "save_yolov3_test_data(test_dcm_dir, img_dir, metadata_dir, \"te_list.txt\", test_dcm_fps)"
      ],
      "execution_count": 0,
      "outputs": []
    },
    {
      "cell_type": "code",
      "metadata": {
        "id": "JHgKNhF7M6zY",
        "colab_type": "code",
        "outputId": "85559b6f-aa12-4ba7-8b57-042691532666",
        "colab": {
          "base_uri": "https://localhost:8080/",
          "height": 287
        }
      },
      "source": [
        "ex_patient_id = test_dcm_fps[0]\n",
        "ex_img_path = os.path.join(img_dir, \"{}.jpg\".format(ex_patient_id))\n",
        "\n",
        "plt.imshow(cv2.imread(ex_img_path))"
      ],
      "execution_count": 51,
      "outputs": [
        {
          "output_type": "execute_result",
          "data": {
            "text/plain": [
              "<matplotlib.image.AxesImage at 0x7fb1284a9d68>"
            ]
          },
          "metadata": {
            "tags": []
          },
          "execution_count": 51
        },
        {
          "output_type": "display_data",
          "data": {
            "image/png": "[encoded data removed]",
            "text/plain": [
              "<Figure size 432x288 with 1 Axes>"
            ]
          },
          "metadata": {
            "tags": []
          }
        }
      ]
    },
    {
      "cell_type": "markdown",
      "metadata": {
        "id": "wmNIjUmJ4lKK",
        "colab_type": "text"
      },
      "source": [
        "#### Prepare Configuration Files for Using YOLOv3\n"
      ]
    },
    {
      "cell_type": "markdown",
      "metadata": {
        "id": "M8HrZWdz4tD5",
        "colab_type": "text"
      },
      "source": [
        "####    rsna.data: This file points to RSNA data path\n",
        "\n",
        "####    train: Path to training image list textfile\n",
        "####    val: Path to validation image list textfile\n",
        "####    names: RSNA class name list (can be seen below)\n",
        "####    backup: A directory where trained weights(checkpoints) will be stored as training progresses.\n",
        "\n"
      ]
    },
    {
      "cell_type": "code",
      "metadata": {
        "id": "LtuaR909NDya",
        "colab_type": "code",
        "colab": {}
      },
      "source": [
        "data_extention_file_path = os.path.join(cfg_dir, 'rsna.data')\n",
        "with open(data_extention_file_path, 'w') as f:\n",
        "    contents = \"\"\"classes= 1\n",
        "train  = {}\n",
        "valid  = {}\n",
        "names  = {}\n",
        "backup = {}\n",
        "    \"\"\".format(os.path.join(metadata_dir, \"tr_list.txt\"),\n",
        "               os.path.join(metadata_dir, \"val_list.txt\"),\n",
        "               os.path.join(cfg_dir, 'rsna.names'),\n",
        "               backup_dir)\n",
        "    f.write(contents)"
      ],
      "execution_count": 0,
      "outputs": []
    },
    {
      "cell_type": "code",
      "metadata": {
        "id": "VTd9NFQfNF7G",
        "colab_type": "code",
        "outputId": "f576be10-85df-4ca5-854b-4f14ef9bdc80",
        "colab": {
          "base_uri": "https://localhost:8080/",
          "height": 127
        }
      },
      "source": [
        "!cat cfg/rsna.data"
      ],
      "execution_count": 53,
      "outputs": [
        {
          "output_type": "stream",
          "text": [
            "classes= 1\n",
            "train  = /content/kaggle_data/kaggle_data/metadata/tr_list.txt\n",
            "valid  = /content/kaggle_data/kaggle_data/metadata/val_list.txt\n",
            "names  = /content/kaggle_data/kaggle_data/cfg/rsna.names\n",
            "backup = /content/kaggle_data/kaggle_data/backup\n",
            "    "
          ],
          "name": "stdout"
        }
      ]
    },
    {
      "cell_type": "markdown",
      "metadata": {
        "id": "HqrbuDXY44e4",
        "colab_type": "text"
      },
      "source": [
        "#### cfg/rsna.names"
      ]
    },
    {
      "cell_type": "code",
      "metadata": {
        "id": "1AU7GwHBNIG3",
        "colab_type": "code",
        "colab": {}
      },
      "source": [
        "# Label list of bounding box.\n",
        "!echo \"pneumonia\" > cfg/rsna.names"
      ],
      "execution_count": 0,
      "outputs": []
    },
    {
      "cell_type": "markdown",
      "metadata": {
        "id": "ce6kTqkk5AvC",
        "colab_type": "text"
      },
      "source": [
        "## darknet53.conv.74 (Download Pre-trained Model)\n",
        "\n",
        "####    For training, we would download the pre-trained model weights(darknet53.conv.74) using following wget command."
      ]
    },
    {
      "cell_type": "code",
      "metadata": {
        "id": "9U-LecgANJ-E",
        "colab_type": "code",
        "colab": {}
      },
      "source": [
        "!wget -q https://pjreddie.com/media/files/darknet53.conv.74\n"
      ],
      "execution_count": 0,
      "outputs": []
    },
    {
      "cell_type": "markdown",
      "metadata": {
        "id": "X-xyfHwQ5JXs",
        "colab_type": "text"
      },
      "source": [
        "### cfg/rsna_yolov3.cfg_train\n",
        "\n",
        "####    Basically, we can use darknet/cfg/yolov3.cfg files. However it won't work for RSNA, we need to edit for RSNA.\n",
        "####    We can just download a cfg file I edited for RSNA with following wget command."
      ]
    },
    {
      "cell_type": "code",
      "metadata": {
        "id": "ZMbgagtONeoN",
        "colab_type": "code",
        "colab": {}
      },
      "source": [
        "!wget --no-check-certificate -q \"https://docs.google.com/uc?export=download&id=18ptTK4Vbeokqpux8Onr0OmwUP9ipmcYO\" -O cfg/rsna_yolov3.cfg_train"
      ],
      "execution_count": 0,
      "outputs": []
    },
    {
      "cell_type": "markdown",
      "metadata": {
        "id": "DRVV6EoF5SOB",
        "colab_type": "text"
      },
      "source": [
        "###Training YOLOv3\n",
        "\n",
        "#### Command for training with Pre-trained CNN Weights (darknet53.conv.74)"
      ]
    },
    {
      "cell_type": "code",
      "metadata": {
        "id": "vQUvJcX7NjLd",
        "colab_type": "code",
        "outputId": "ed0d4b9c-3ef9-4080-af8c-6bc6166e66f9",
        "colab": {
          "base_uri": "https://localhost:8080/",
          "height": 1376
        }
      },
      "source": [
        "!./darknet_gpu detector train cfg/rsna.data cfg/rsna_yolov3.cfg_train darknet53.conv.74 -i 0 | tee train_log.txt"
      ],
      "execution_count": 57,
      "outputs": [
        {
          "output_type": "stream",
          "text": [
            "layer     filters    size              input                output\n",
            "    0 conv     32  3 x 3 / 1   608 x 608 x   3   ->   608 x 608 x  32  0.639 BFLOPs\n",
            "    1 conv     64  3 x 3 / 2   608 x 608 x  32   ->   304 x 304 x  64  3.407 BFLOPs\n",
            "    2 conv     32  1 x 1 / 1   304 x 304 x  64   ->   304 x 304 x  32  0.379 BFLOPs\n",
            "    3 conv     64  3 x 3 / 1   304 x 304 x  32   ->   304 x 304 x  64  3.407 BFLOPs\n",
            "    4 res    1                 304 x 304 x  64   ->   304 x 304 x  64\n",
            "    5 conv    128  3 x 3 / 2   304 x 304 x  64   ->   152 x 152 x 128  3.407 BFLOPs\n",
            "    6 conv     64  1 x 1 / 1   152 x 152 x 128   ->   152 x 152 x  64  0.379 BFLOPs\n",
            "    7 conv    128  3 x 3 / 1   152 x 152 x  64   ->   152 x 152 x 128  3.407 BFLOPs\n",
            "    8 res    5                 152 x 152 x 128   ->   152 x 152 x 128\n",
            "    9 conv     64  1 x 1 / 1   152 x 152 x 128   ->   152 x 152 x  64  0.379 BFLOPs\n",
            "   10 conv    128  3 x 3 / 1   152 x 152 x  64   ->   152 x 152 x 128  3.407 BFLOPs\n",
            "   11 res    8                 152 x 152 x 128   ->   152 x 152 x 128\n",
            "   12 conv    256  3 x 3 / 2   152 x 152 x 128   ->    76 x  76 x 256  3.407 BFLOPs\n",
            "   13 conv    128  1 x 1 / 1    76 x  76 x 256   ->    76 x  76 x 128  0.379 BFLOPs\n",
            "   14 conv    256  3 x 3 / 1    76 x  76 x 128   ->    76 x  76 x 256  3.407 BFLOPs\n",
            "   15 res   12                  76 x  76 x 256   ->    76 x  76 x 256\n",
            "   16 conv    128  1 x 1 / 1    76 x  76 x 256   ->    76 x  76 x 128  0.379 BFLOPs\n",
            "   17 conv    256  3 x 3 / 1    76 x  76 x 128   ->    76 x  76 x 256  3.407 BFLOPs\n",
            "   18 res   15                  76 x  76 x 256   ->    76 x  76 x 256\n",
            "   19 conv    128  1 x 1 / 1    76 x  76 x 256   ->    76 x  76 x 128  0.379 BFLOPs\n",
            "   20 conv    256  3 x 3 / 1    76 x  76 x 128   ->    76 x  76 x 256  3.407 BFLOPs\n",
            "   21 res   18                  76 x  76 x 256   ->    76 x  76 x 256\n",
            "   22 conv    128  1 x 1 / 1    76 x  76 x 256   ->    76 x  76 x 128  0.379 BFLOPs\n",
            "   23 conv    256  3 x 3 / 1    76 x  76 x 128   ->    76 x  76 x 256  3.407 BFLOPs\n",
            "   24 res   21                  76 x  76 x 256   ->    76 x  76 x 256\n",
            "   25 conv    128  1 x 1 / 1    76 x  76 x 256   ->    76 x  76 x 128  0.379 BFLOPs\n",
            "   26 conv    256  3 x 3 / 1    76 x  76 x 128   ->    76 x  76 x 256  3.407 BFLOPs\n",
            "   27 res   24                  76 x  76 x 256   ->    76 x  76 x 256\n",
            "   28 conv    128  1 x 1 / 1    76 x  76 x 256   ->    76 x  76 x 128  0.379 BFLOPs\n",
            "   29 conv    256  3 x 3 / 1    76 x  76 x 128   ->    76 x  76 x 256  3.407 BFLOPs\n",
            "   30 res   27                  76 x  76 x 256   ->    76 x  76 x 256\n",
            "   31 conv    128  1 x 1 / 1    76 x  76 x 256   ->    76 x  76 x 128  0.379 BFLOPs\n",
            "   32 conv    256  3 x 3 / 1    76 x  76 x 128   ->    76 x  76 x 256  3.407 BFLOPs\n",
            "   33 res   30                  76 x  76 x 256   ->    76 x  76 x 256\n",
            "   34 conv    128  1 x 1 / 1    76 x  76 x 256   ->    76 x  76 x 128  0.379 BFLOPs\n",
            "   35 conv    256  3 x 3 / 1    76 x  76 x 128   ->    76 x  76 x 256  3.407 BFLOPs\n",
            "   36 res   33                  76 x  76 x 256   ->    76 x  76 x 256\n",
            "   37 conv    512  3 x 3 / 2    76 x  76 x 256   ->    38 x  38 x 512  3.407 BFLOPs\n",
            "   38 conv    256  1 x 1 / 1    38 x  38 x 512   ->    38 x  38 x 256  0.379 BFLOPs\n",
            "   39 conv    512  3 x 3 / 1    38 x  38 x 256   ->    38 x  38 x 512  3.407 BFLOPs\n",
            "   40 res   37                  38 x  38 x 512   ->    38 x  38 x 512\n",
            "   41 conv    256  1 x 1 / 1    38 x  38 x 512   ->    38 x  38 x 256  0.379 BFLOPs\n",
            "   42 conv    512  3 x 3 / 1    38 x  38 x 256   ->    38 x  38 x 512  3.407 BFLOPs\n",
            "   43 res   40                  38 x  38 x 512   ->    38 x  38 x 512\n",
            "   44 conv    256  1 x 1 / 1    38 x  38 x 512   ->    38 x  38 x 256  0.379 BFLOPs\n",
            "   45 conv    512  3 x 3 / 1    38 x  38 x 256   ->    38 x  38 x 512  3.407 BFLOPs\n",
            "   46 res   43                  38 x  38 x 512   ->    38 x  38 x 512\n",
            "   47 conv    256  1 x 1 / 1    38 x  38 x 512   ->    38 x  38 x 256  0.379 BFLOPs\n",
            "   48 conv    512  3 x 3 / 1    38 x  38 x 256   ->    38 x  38 x 512  3.407 BFLOPs\n",
            "   49 res   46                  38 x  38 x 512   ->    38 x  38 x 512\n",
            "   50 conv    256  1 x 1 / 1    38 x  38 x 512   ->    38 x  38 x 256  0.379 BFLOPs\n",
            "   51 conv    512  3 x 3 / 1    38 x  38 x 256   ->    38 x  38 x 512  3.407 BFLOPs\n",
            "   52 res   49                  38 x  38 x 512   ->    38 x  38 x 512\n",
            "   53 conv    256  1 x 1 / 1    38 x  38 x 512   ->    38 x  38 x 256  0.379 BFLOPs\n",
            "   54 conv    512  3 x 3 / 1    38 x  38 x 256   ->    38 x  38 x 512  3.407 BFLOPs\n",
            "   55 res   52                  38 x  38 x 512   ->    38 x  38 x 512\n",
            "   56 conv    256  1 x 1 / 1    38 x  38 x 512   ->    38 x  38 x 256  0.379 BFLOPs\n",
            "   57 conv    512  3 x 3 / 1    38 x  38 x 256   ->    38 x  38 x 512  3.407 BFLOPs\n",
            "   58 res   55                  38 x  38 x 512   ->    38 x  38 x 512\n",
            "   59 conv    256  1 x 1 / 1    38 x  38 x 512   ->    38 x  38 x 256  0.379 BFLOPs\n",
            "   60 conv    512  3 x 3 / 1    38 x  38 x 256   ->    38 x  38 x 512  3.407 BFLOPs\n",
            "   61 res   58                  38 x  38 x 512   ->    38 x  38 x 512\n",
            "   62 conv   1024  3 x 3 / 2    38 x  38 x 512   ->    19 x  19 x1024  3.407 BFLOPs\n",
            "   63 conv    512  1 x 1 / 1    19 x  19 x1024   ->    19 x  19 x 512  0.379 BFLOPs\n",
            "   64 conv   1024  3 x 3 / 1    19 x  19 x 512   ->    19 x  19 x1024  3.407 BFLOPs\n",
            "   65 res   62                  19 x  19 x1024   ->    19 x  19 x1024\n",
            "   66 conv    512  1 x 1 / 1    19 x  19 x1024   ->    19 x  19 x 512  0.379 BFLOPs\n",
            "   67 conv   1024  3 x 3 / 1    19 x  19 x 512   ->    19 x  19 x1024  3.407 BFLOPs\n",
            "   68 res   65                  19 x  19 x1024   ->    19 x  19 x1024\n",
            "   69 conv    512  1 x 1 / 1    19 x  19 x1024   ->    19 x  19 x 512  0.379 BFLOPs\n",
            "   70 conv   1024  3 x 3 / 1    19 x  19 x 512   ->    19 x  19 x1024  3.407 BFLOPs\n",
            "   71 res   68                  19 x  19 x1024   ->    19 x  19 x1024\n",
            "   72 "
          ],
          "name": "stdout"
        }
      ]
    },
    {
      "cell_type": "markdown",
      "metadata": {
        "id": "c21KddF_5f1y",
        "colab_type": "text"
      },
      "source": [
        "### Command for training with Multi-gpu after 1000 iteration\n",
        "\n",
        "####    Things to watch out:\n",
        "####    1. Learning rate for training\n",
        "####    2. Number of GPUs"
      ]
    },
    {
      "cell_type": "code",
      "metadata": {
        "id": "NiLA9ttwNrHm",
        "colab_type": "code",
        "outputId": "8212134c-a86e-464a-b65c-03aad8a651dd",
        "colab": {
          "base_uri": "https://localhost:8080/",
          "height": 1376
        }
      },
      "source": [
        "!./darknet_gpu detector train cfg/rsna.data cfg/rsna_yolov3.cfg_train backup/rsna_yolov3_1000.weights -gpus 0,1,2,3 | tee train_log.txt"
      ],
      "execution_count": 58,
      "outputs": [
        {
          "output_type": "stream",
          "text": [
            "layer     filters    size              input                output\n",
            "    0 conv     32  3 x 3 / 1   608 x 608 x   3   ->   608 x 608 x  32  0.639 BFLOPs\n",
            "    1 conv     64  3 x 3 / 2   608 x 608 x  32   ->   304 x 304 x  64  3.407 BFLOPs\n",
            "    2 conv     32  1 x 1 / 1   304 x 304 x  64   ->   304 x 304 x  32  0.379 BFLOPs\n",
            "    3 conv     64  3 x 3 / 1   304 x 304 x  32   ->   304 x 304 x  64  3.407 BFLOPs\n",
            "    4 res    1                 304 x 304 x  64   ->   304 x 304 x  64\n",
            "    5 conv    128  3 x 3 / 2   304 x 304 x  64   ->   152 x 152 x 128  3.407 BFLOPs\n",
            "    6 conv     64  1 x 1 / 1   152 x 152 x 128   ->   152 x 152 x  64  0.379 BFLOPs\n",
            "    7 conv    128  3 x 3 / 1   152 x 152 x  64   ->   152 x 152 x 128  3.407 BFLOPs\n",
            "    8 res    5                 152 x 152 x 128   ->   152 x 152 x 128\n",
            "    9 conv     64  1 x 1 / 1   152 x 152 x 128   ->   152 x 152 x  64  0.379 BFLOPs\n",
            "   10 conv    128  3 x 3 / 1   152 x 152 x  64   ->   152 x 152 x 128  3.407 BFLOPs\n",
            "   11 res    8                 152 x 152 x 128   ->   152 x 152 x 128\n",
            "   12 conv    256  3 x 3 / 2   152 x 152 x 128   ->    76 x  76 x 256  3.407 BFLOPs\n",
            "   13 conv    128  1 x 1 / 1    76 x  76 x 256   ->    76 x  76 x 128  0.379 BFLOPs\n",
            "   14 conv    256  3 x 3 / 1    76 x  76 x 128   ->    76 x  76 x 256  3.407 BFLOPs\n",
            "   15 res   12                  76 x  76 x 256   ->    76 x  76 x 256\n",
            "   16 conv    128  1 x 1 / 1    76 x  76 x 256   ->    76 x  76 x 128  0.379 BFLOPs\n",
            "   17 conv    256  3 x 3 / 1    76 x  76 x 128   ->    76 x  76 x 256  3.407 BFLOPs\n",
            "   18 res   15                  76 x  76 x 256   ->    76 x  76 x 256\n",
            "   19 conv    128  1 x 1 / 1    76 x  76 x 256   ->    76 x  76 x 128  0.379 BFLOPs\n",
            "   20 conv    256  3 x 3 / 1    76 x  76 x 128   ->    76 x  76 x 256  3.407 BFLOPs\n",
            "   21 res   18                  76 x  76 x 256   ->    76 x  76 x 256\n",
            "   22 conv    128  1 x 1 / 1    76 x  76 x 256   ->    76 x  76 x 128  0.379 BFLOPs\n",
            "   23 conv    256  3 x 3 / 1    76 x  76 x 128   ->    76 x  76 x 256  3.407 BFLOPs\n",
            "   24 res   21                  76 x  76 x 256   ->    76 x  76 x 256\n",
            "   25 conv    128  1 x 1 / 1    76 x  76 x 256   ->    76 x  76 x 128  0.379 BFLOPs\n",
            "   26 conv    256  3 x 3 / 1    76 x  76 x 128   ->    76 x  76 x 256  3.407 BFLOPs\n",
            "   27 res   24                  76 x  76 x 256   ->    76 x  76 x 256\n",
            "   28 conv    128  1 x 1 / 1    76 x  76 x 256   ->    76 x  76 x 128  0.379 BFLOPs\n",
            "   29 conv    256  3 x 3 / 1    76 x  76 x 128   ->    76 x  76 x 256  3.407 BFLOPs\n",
            "   30 res   27                  76 x  76 x 256   ->    76 x  76 x 256\n",
            "   31 conv    128  1 x 1 / 1    76 x  76 x 256   ->    76 x  76 x 128  0.379 BFLOPs\n",
            "   32 conv    256  3 x 3 / 1    76 x  76 x 128   ->    76 x  76 x 256  3.407 BFLOPs\n",
            "   33 res   30                  76 x  76 x 256   ->    76 x  76 x 256\n",
            "   34 conv    128  1 x 1 / 1    76 x  76 x 256   ->    76 x  76 x 128  0.379 BFLOPs\n",
            "   35 conv    256  3 x 3 / 1    76 x  76 x 128   ->    76 x  76 x 256  3.407 BFLOPs\n",
            "   36 res   33                  76 x  76 x 256   ->    76 x  76 x 256\n",
            "   37 conv    512  3 x 3 / 2    76 x  76 x 256   ->    38 x  38 x 512  3.407 BFLOPs\n",
            "   38 conv    256  1 x 1 / 1    38 x  38 x 512   ->    38 x  38 x 256  0.379 BFLOPs\n",
            "   39 conv    512  3 x 3 / 1    38 x  38 x 256   ->    38 x  38 x 512  3.407 BFLOPs\n",
            "   40 res   37                  38 x  38 x 512   ->    38 x  38 x 512\n",
            "   41 conv    256  1 x 1 / 1    38 x  38 x 512   ->    38 x  38 x 256  0.379 BFLOPs\n",
            "   42 conv    512  3 x 3 / 1    38 x  38 x 256   ->    38 x  38 x 512  3.407 BFLOPs\n",
            "   43 res   40                  38 x  38 x 512   ->    38 x  38 x 512\n",
            "   44 conv    256  1 x 1 / 1    38 x  38 x 512   ->    38 x  38 x 256  0.379 BFLOPs\n",
            "   45 conv    512  3 x 3 / 1    38 x  38 x 256   ->    38 x  38 x 512  3.407 BFLOPs\n",
            "   46 res   43                  38 x  38 x 512   ->    38 x  38 x 512\n",
            "   47 conv    256  1 x 1 / 1    38 x  38 x 512   ->    38 x  38 x 256  0.379 BFLOPs\n",
            "   48 conv    512  3 x 3 / 1    38 x  38 x 256   ->    38 x  38 x 512  3.407 BFLOPs\n",
            "   49 res   46                  38 x  38 x 512   ->    38 x  38 x 512\n",
            "   50 conv    256  1 x 1 / 1    38 x  38 x 512   ->    38 x  38 x 256  0.379 BFLOPs\n",
            "   51 conv    512  3 x 3 / 1    38 x  38 x 256   ->    38 x  38 x 512  3.407 BFLOPs\n",
            "   52 res   49                  38 x  38 x 512   ->    38 x  38 x 512\n",
            "   53 conv    256  1 x 1 / 1    38 x  38 x 512   ->    38 x  38 x 256  0.379 BFLOPs\n",
            "   54 conv    512  3 x 3 / 1    38 x  38 x 256   ->    38 x  38 x 512  3.407 BFLOPs\n",
            "   55 res   52                  38 x  38 x 512   ->    38 x  38 x 512\n",
            "   56 conv    256  1 x 1 / 1    38 x  38 x 512   ->    38 x  38 x 256  0.379 BFLOPs\n",
            "   57 conv    512  3 x 3 / 1    38 x  38 x 256   ->    38 x  38 x 512  3.407 BFLOPs\n",
            "   58 res   55                  38 x  38 x 512   ->    38 x  38 x 512\n",
            "   59 conv    256  1 x 1 / 1    38 x  38 x 512   ->    38 x  38 x 256  0.379 BFLOPs\n",
            "   60 conv    512  3 x 3 / 1    38 x  38 x 256   ->    38 x  38 x 512  3.407 BFLOPs\n",
            "   61 res   58                  38 x  38 x 512   ->    38 x  38 x 512\n",
            "   62 conv   1024  3 x 3 / 2    38 x  38 x 512   ->    19 x  19 x1024  3.407 BFLOPs\n",
            "   63 conv    512  1 x 1 / 1    19 x  19 x1024   ->    19 x  19 x 512  0.379 BFLOPs\n",
            "   64 conv   1024  3 x 3 / 1    19 x  19 x 512   ->    19 x  19 x1024  3.407 BFLOPs\n",
            "   65 res   62                  19 x  19 x1024   ->    19 x  19 x1024\n",
            "   66 conv    512  1 x 1 / 1    19 x  19 x1024   ->    19 x  19 x 512  0.379 BFLOPs\n",
            "   67 conv   1024  3 x 3 / 1    19 x  19 x 512   ->    19 x  19 x1024  3.407 BFLOPs\n",
            "   68 res   65                  19 x  19 x1024   ->    19 x  19 x1024\n",
            "   69 conv    512  1 x 1 / 1    19 x  19 x1024   ->    19 x  19 x 512  0.379 BFLOPs\n",
            "   70 conv   1024  3 x 3 / 1    19 x  19 x 512   ->    19 x  19 x1024  3.407 BFLOPs\n",
            "   71 res   68                  19 x  19 x1024   ->    19 x  19 x1024\n",
            "   72 "
          ],
          "name": "stdout"
        }
      ]
    },
    {
      "cell_type": "markdown",
      "metadata": {
        "id": "xtiA5EFs5yEr",
        "colab_type": "text"
      },
      "source": [
        "### Plot of Training Loss\n",
        "\n",
        "#### It's a loss graph up to about 2000 iteration"
      ]
    },
    {
      "cell_type": "code",
      "metadata": {
        "id": "iVUS3eDMNvFf",
        "colab_type": "code",
        "colab": {}
      },
      "source": [
        "!wget --no-check-certificate -q \"https://docs.google.com/uc?export=download&id=1OhnlV3s7r6xsEme6DKkNYjcYjsl-C_Av\" -O train_log.txt"
      ],
      "execution_count": 0,
      "outputs": []
    },
    {
      "cell_type": "code",
      "metadata": {
        "id": "9t0YW0iNN2lG",
        "colab_type": "code",
        "outputId": "64c1bd6e-b61b-4ab1-b420-5030a0ccb2a2",
        "colab": {
          "base_uri": "https://localhost:8080/",
          "height": 355
        }
      },
      "source": [
        "iters = []\n",
        "losses = []\n",
        "total_losses = []\n",
        "with open(\"train_log.txt\", 'r') as f:\n",
        "    for i,line in enumerate(f):\n",
        "        if \"images\" in line:\n",
        "            iters.append(int(line.strip().split()[0].split(\":\")[0]))\n",
        "            losses.append(float(line.strip().split()[2]))        \n",
        "            total_losses.append(float(line.strip().split()[1].split(',')[0]))\n",
        "\n",
        "plt.figure(figsize=(20, 5))\n",
        "plt.subplot(1,2,1)\n",
        "sns.lineplot(iters, total_losses, label=\"total loss\")\n",
        "sns.lineplot(iters, losses, label=\"avg loss\")\n",
        "plt.xlabel(\"Iteration\")\n",
        "plt.ylabel(\"Loss\")\n",
        "\n",
        "plt.subplot(1,2,2)\n",
        "sns.lineplot(iters, total_losses, label=\"total loss\")\n",
        "sns.lineplot(iters, losses, label=\"avg loss\")\n",
        "plt.xlabel(\"Iteration\")\n",
        "plt.ylabel(\"Loss\")\n",
        "plt.ylim([0, 4.05])"
      ],
      "execution_count": 60,
      "outputs": [
        {
          "output_type": "execute_result",
          "data": {
            "text/plain": [
              "(0, 4.05)"
            ]
          },
          "metadata": {
            "tags": []
          },
          "execution_count": 60
        },
        {
          "output_type": "display_data",
          "data": {
            "image/png": "[encoded data removed]",
            "text/plain": [
              "<Figure size 1440x360 with 2 Axes>"
            ]
          },
          "metadata": {
            "tags": []
          }
        }
      ]
    },
    {
      "cell_type": "markdown",
      "metadata": {
        "id": "EHkRVQ1D5-NH",
        "colab_type": "text"
      },
      "source": [
        "#### Usage of trainined YOLOv3 for test images (command line)"
      ]
    },
    {
      "cell_type": "markdown",
      "metadata": {
        "id": "H49knbT26EGy",
        "colab_type": "text"
      },
      "source": [
        "##### Copy sample test image"
      ]
    },
    {
      "cell_type": "code",
      "metadata": {
        "id": "6hZM5LjfN4uq",
        "colab_type": "code",
        "outputId": "559e2803-c1a0-4cc1-e41d-adc5736a32d7",
        "colab": {
          "base_uri": "https://localhost:8080/",
          "height": 35
        }
      },
      "source": [
        "ex_patient_id = annots[annots.Target == 1].patientId.values[2]\n",
        "shutil.copy(ex_img_path, \"test.jpg\")\n",
        "print(ex_patient_id)"
      ],
      "execution_count": 61,
      "outputs": [
        {
          "output_type": "stream",
          "text": [
            "00704310-78a8-4b38-8475-49f4573b2dbb\n"
          ],
          "name": "stdout"
        }
      ]
    },
    {
      "cell_type": "markdown",
      "metadata": {
        "id": "6PYc7Zfr6KtZ",
        "colab_type": "text"
      },
      "source": [
        "#### Load trained model (at 15300 iteration)"
      ]
    },
    {
      "cell_type": "code",
      "metadata": {
        "id": "t91MKfnWN6zy",
        "colab_type": "code",
        "colab": {}
      },
      "source": [
        " !wget --load-cookies /tmp/cookies.txt -q \"https://docs.google.com/uc?export=download&confirm=$(wget --quiet --save-cookies /tmp/cookies.txt --keep-session-cookies --no-check-certificate 'https://docs.google.com/uc?export=download&id=1FDzMN-kGVYCvBeDKwemAazldSVkAEFyd' -O- | sed -rn 's/.*confirm=([0-9A-Za-z_]+).*/\\1\\n/p')&id=1FDzMN-kGVYCvBeDKwemAazldSVkAEFyd\" -O backup/rsna_yolov3_15300.weights && rm -rf /tmp/cookies.txt"
      ],
      "execution_count": 0,
      "outputs": []
    },
    {
      "cell_type": "code",
      "metadata": {
        "id": "3rdjwFJ6N8Wo",
        "colab_type": "code",
        "outputId": "ba896078-35f9-4825-de1d-e0d12735df27",
        "colab": {
          "base_uri": "https://localhost:8080/",
          "height": 90
        }
      },
      "source": [
        "!ls -alsth backup"
      ],
      "execution_count": 63,
      "outputs": [
        {
          "output_type": "stream",
          "text": [
            "total 235M\n",
            "235M -rw-r--r--  1 root root 235M May  6 02:58 rsna_yolov3_15300.weights\n",
            "4.0K drwxr-xr-x  2 root root 4.0K May  6 02:57 .\n",
            "4.0K drwxr-xr-x 10 root root 4.0K May  6 02:57 ..\n"
          ],
          "name": "stdout"
        }
      ]
    },
    {
      "cell_type": "code",
      "metadata": {
        "id": "iN035uMRN-4b",
        "colab_type": "code",
        "colab": {}
      },
      "source": [
        "!wget --no-check-certificate -q \"https://docs.google.com/uc?export=download&id=10Yk6ZMAKGz5LeBbikciALy82aK3lX-57\" -O cfg/rsna_yolov3.cfg_test"
      ],
      "execution_count": 0,
      "outputs": []
    },
    {
      "cell_type": "code",
      "metadata": {
        "id": "F515pKTYOAzd",
        "colab_type": "code",
        "outputId": "4aa0b6c2-e802-423c-c14f-dc5d2362b593",
        "colab": {
          "base_uri": "https://localhost:8080/",
          "height": 2037
        }
      },
      "source": [
        "!cd darknet && ./darknet detector test ../cfg/rsna.data ../cfg/rsna_yolov3.cfg_test ../backup/rsna_yolov3_15300.weights ../test.jpg -thresh 0.005"
      ],
      "execution_count": 65,
      "outputs": [
        {
          "output_type": "stream",
          "text": [
            "layer     filters    size              input                output\n",
            "    0 conv     32  3 x 3 / 1   608 x 608 x   3   ->   608 x 608 x  32  0.639 BFLOPs\n",
            "    1 conv     64  3 x 3 / 2   608 x 608 x  32   ->   304 x 304 x  64  3.407 BFLOPs\n",
            "    2 conv     32  1 x 1 / 1   304 x 304 x  64   ->   304 x 304 x  32  0.379 BFLOPs\n",
            "    3 conv     64  3 x 3 / 1   304 x 304 x  32   ->   304 x 304 x  64  3.407 BFLOPs\n",
            "    4 res    1                 304 x 304 x  64   ->   304 x 304 x  64\n",
            "    5 conv    128  3 x 3 / 2   304 x 304 x  64   ->   152 x 152 x 128  3.407 BFLOPs\n",
            "    6 conv     64  1 x 1 / 1   152 x 152 x 128   ->   152 x 152 x  64  0.379 BFLOPs\n",
            "    7 conv    128  3 x 3 / 1   152 x 152 x  64   ->   152 x 152 x 128  3.407 BFLOPs\n",
            "    8 res    5                 152 x 152 x 128   ->   152 x 152 x 128\n",
            "    9 conv     64  1 x 1 / 1   152 x 152 x 128   ->   152 x 152 x  64  0.379 BFLOPs\n",
            "   10 conv    128  3 x 3 / 1   152 x 152 x  64   ->   152 x 152 x 128  3.407 BFLOPs\n",
            "   11 res    8                 152 x 152 x 128   ->   152 x 152 x 128\n",
            "   12 conv    256  3 x 3 / 2   152 x 152 x 128   ->    76 x  76 x 256  3.407 BFLOPs\n",
            "   13 conv    128  1 x 1 / 1    76 x  76 x 256   ->    76 x  76 x 128  0.379 BFLOPs\n",
            "   14 conv    256  3 x 3 / 1    76 x  76 x 128   ->    76 x  76 x 256  3.407 BFLOPs\n",
            "   15 res   12                  76 x  76 x 256   ->    76 x  76 x 256\n",
            "   16 conv    128  1 x 1 / 1    76 x  76 x 256   ->    76 x  76 x 128  0.379 BFLOPs\n",
            "   17 conv    256  3 x 3 / 1    76 x  76 x 128   ->    76 x  76 x 256  3.407 BFLOPs\n",
            "   18 res   15                  76 x  76 x 256   ->    76 x  76 x 256\n",
            "   19 conv    128  1 x 1 / 1    76 x  76 x 256   ->    76 x  76 x 128  0.379 BFLOPs\n",
            "   20 conv    256  3 x 3 / 1    76 x  76 x 128   ->    76 x  76 x 256  3.407 BFLOPs\n",
            "   21 res   18                  76 x  76 x 256   ->    76 x  76 x 256\n",
            "   22 conv    128  1 x 1 / 1    76 x  76 x 256   ->    76 x  76 x 128  0.379 BFLOPs\n",
            "   23 conv    256  3 x 3 / 1    76 x  76 x 128   ->    76 x  76 x 256  3.407 BFLOPs\n",
            "   24 res   21                  76 x  76 x 256   ->    76 x  76 x 256\n",
            "   25 conv    128  1 x 1 / 1    76 x  76 x 256   ->    76 x  76 x 128  0.379 BFLOPs\n",
            "   26 conv    256  3 x 3 / 1    76 x  76 x 128   ->    76 x  76 x 256  3.407 BFLOPs\n",
            "   27 res   24                  76 x  76 x 256   ->    76 x  76 x 256\n",
            "   28 conv    128  1 x 1 / 1    76 x  76 x 256   ->    76 x  76 x 128  0.379 BFLOPs\n",
            "   29 conv    256  3 x 3 / 1    76 x  76 x 128   ->    76 x  76 x 256  3.407 BFLOPs\n",
            "   30 res   27                  76 x  76 x 256   ->    76 x  76 x 256\n",
            "   31 conv    128  1 x 1 / 1    76 x  76 x 256   ->    76 x  76 x 128  0.379 BFLOPs\n",
            "   32 conv    256  3 x 3 / 1    76 x  76 x 128   ->    76 x  76 x 256  3.407 BFLOPs\n",
            "   33 res   30                  76 x  76 x 256   ->    76 x  76 x 256\n",
            "   34 conv    128  1 x 1 / 1    76 x  76 x 256   ->    76 x  76 x 128  0.379 BFLOPs\n",
            "   35 conv    256  3 x 3 / 1    76 x  76 x 128   ->    76 x  76 x 256  3.407 BFLOPs\n",
            "   36 res   33                  76 x  76 x 256   ->    76 x  76 x 256\n",
            "   37 conv    512  3 x 3 / 2    76 x  76 x 256   ->    38 x  38 x 512  3.407 BFLOPs\n",
            "   38 conv    256  1 x 1 / 1    38 x  38 x 512   ->    38 x  38 x 256  0.379 BFLOPs\n",
            "   39 conv    512  3 x 3 / 1    38 x  38 x 256   ->    38 x  38 x 512  3.407 BFLOPs\n",
            "   40 res   37                  38 x  38 x 512   ->    38 x  38 x 512\n",
            "   41 conv    256  1 x 1 / 1    38 x  38 x 512   ->    38 x  38 x 256  0.379 BFLOPs\n",
            "   42 conv    512  3 x 3 / 1    38 x  38 x 256   ->    38 x  38 x 512  3.407 BFLOPs\n",
            "   43 res   40                  38 x  38 x 512   ->    38 x  38 x 512\n",
            "   44 conv    256  1 x 1 / 1    38 x  38 x 512   ->    38 x  38 x 256  0.379 BFLOPs\n",
            "   45 conv    512  3 x 3 / 1    38 x  38 x 256   ->    38 x  38 x 512  3.407 BFLOPs\n",
            "   46 res   43                  38 x  38 x 512   ->    38 x  38 x 512\n",
            "   47 conv    256  1 x 1 / 1    38 x  38 x 512   ->    38 x  38 x 256  0.379 BFLOPs\n",
            "   48 conv    512  3 x 3 / 1    38 x  38 x 256   ->    38 x  38 x 512  3.407 BFLOPs\n",
            "   49 res   46                  38 x  38 x 512   ->    38 x  38 x 512\n",
            "   50 conv    256  1 x 1 / 1    38 x  38 x 512   ->    38 x  38 x 256  0.379 BFLOPs\n",
            "   51 conv    512  3 x 3 / 1    38 x  38 x 256   ->    38 x  38 x 512  3.407 BFLOPs\n",
            "   52 res   49                  38 x  38 x 512   ->    38 x  38 x 512\n",
            "   53 conv    256  1 x 1 / 1    38 x  38 x 512   ->    38 x  38 x 256  0.379 BFLOPs\n",
            "   54 conv    512  3 x 3 / 1    38 x  38 x 256   ->    38 x  38 x 512  3.407 BFLOPs\n",
            "   55 res   52                  38 x  38 x 512   ->    38 x  38 x 512\n",
            "   56 conv    256  1 x 1 / 1    38 x  38 x 512   ->    38 x  38 x 256  0.379 BFLOPs\n",
            "   57 conv    512  3 x 3 / 1    38 x  38 x 256   ->    38 x  38 x 512  3.407 BFLOPs\n",
            "   58 res   55                  38 x  38 x 512   ->    38 x  38 x 512\n",
            "   59 conv    256  1 x 1 / 1    38 x  38 x 512   ->    38 x  38 x 256  0.379 BFLOPs\n",
            "   60 conv    512  3 x 3 / 1    38 x  38 x 256   ->    38 x  38 x 512  3.407 BFLOPs\n",
            "   61 res   58                  38 x  38 x 512   ->    38 x  38 x 512\n",
            "   62 conv   1024  3 x 3 / 2    38 x  38 x 512   ->    19 x  19 x1024  3.407 BFLOPs\n",
            "   63 conv    512  1 x 1 / 1    19 x  19 x1024   ->    19 x  19 x 512  0.379 BFLOPs\n",
            "   64 conv   1024  3 x 3 / 1    19 x  19 x 512   ->    19 x  19 x1024  3.407 BFLOPs\n",
            "   65 res   62                  19 x  19 x1024   ->    19 x  19 x1024\n",
            "   66 conv    512  1 x 1 / 1    19 x  19 x1024   ->    19 x  19 x 512  0.379 BFLOPs\n",
            "   67 conv   1024  3 x 3 / 1    19 x  19 x 512   ->    19 x  19 x1024  3.407 BFLOPs\n",
            "   68 res   65                  19 x  19 x1024   ->    19 x  19 x1024\n",
            "   69 conv    512  1 x 1 / 1    19 x  19 x1024   ->    19 x  19 x 512  0.379 BFLOPs\n",
            "   70 conv   1024  3 x 3 / 1    19 x  19 x 512   ->    19 x  19 x1024  3.407 BFLOPs\n",
            "   71 res   68                  19 x  19 x1024   ->    19 x  19 x1024\n",
            "   72 conv    512  1 x 1 / 1    19 x  19 x1024   ->    19 x  19 x 512  0.379 BFLOPs\n",
            "   73 conv   1024  3 x 3 / 1    19 x  19 x 512   ->    19 x  19 x1024  3.407 BFLOPs\n",
            "   74 res   71                  19 x  19 x1024   ->    19 x  19 x1024\n",
            "   75 conv    512  1 x 1 / 1    19 x  19 x1024   ->    19 x  19 x 512  0.379 BFLOPs\n",
            "   76 conv   1024  3 x 3 / 1    19 x  19 x 512   ->    19 x  19 x1024  3.407 BFLOPs\n",
            "   77 conv    512  1 x 1 / 1    19 x  19 x1024   ->    19 x  19 x 512  0.379 BFLOPs\n",
            "   78 conv   1024  3 x 3 / 1    19 x  19 x 512   ->    19 x  19 x1024  3.407 BFLOPs\n",
            "   79 conv    512  1 x 1 / 1    19 x  19 x1024   ->    19 x  19 x 512  0.379 BFLOPs\n",
            "   80 conv   1024  3 x 3 / 1    19 x  19 x 512   ->    19 x  19 x1024  3.407 BFLOPs\n",
            "   81 conv     18  1 x 1 / 1    19 x  19 x1024   ->    19 x  19 x  18  0.013 BFLOPs\n",
            "   82 yolo\n",
            "   83 route  79\n",
            "   84 conv    256  1 x 1 / 1    19 x  19 x 512   ->    19 x  19 x 256  0.095 BFLOPs\n",
            "   85 upsample            2x    19 x  19 x 256   ->    38 x  38 x 256\n",
            "   86 route  85 61\n",
            "   87 conv    256  1 x 1 / 1    38 x  38 x 768   ->    38 x  38 x 256  0.568 BFLOPs\n",
            "   88 conv    512  3 x 3 / 1    38 x  38 x 256   ->    38 x  38 x 512  3.407 BFLOPs\n",
            "   89 conv    256  1 x 1 / 1    38 x  38 x 512   ->    38 x  38 x 256  0.379 BFLOPs\n",
            "   90 conv    512  3 x 3 / 1    38 x  38 x 256   ->    38 x  38 x 512  3.407 BFLOPs\n",
            "   91 conv    256  1 x 1 / 1    38 x  38 x 512   ->    38 x  38 x 256  0.379 BFLOPs\n",
            "   92 conv    512  3 x 3 / 1    38 x  38 x 256   ->    38 x  38 x 512  3.407 BFLOPs\n",
            "   93 conv     18  1 x 1 / 1    38 x  38 x 512   ->    38 x  38 x  18  0.027 BFLOPs\n",
            "   94 yolo\n",
            "   95 route  91\n",
            "   96 conv    128  1 x 1 / 1    38 x  38 x 256   ->    38 x  38 x 128  0.095 BFLOPs\n",
            "   97 upsample            2x    38 x  38 x 128   ->    76 x  76 x 128\n",
            "   98 route  97 36\n",
            "   99 conv    128  1 x 1 / 1    76 x  76 x 384   ->    76 x  76 x 128  0.568 BFLOPs\n",
            "  100 conv    256  3 x 3 / 1    76 x  76 x 128   ->    76 x  76 x 256  3.407 BFLOPs\n",
            "  101 conv    128  1 x 1 / 1    76 x  76 x 256   ->    76 x  76 x 128  0.379 BFLOPs\n",
            "  102 conv    256  3 x 3 / 1    76 x  76 x 128   ->    76 x  76 x 256  3.407 BFLOPs\n",
            "  103 conv    128  1 x 1 / 1    76 x  76 x 256   ->    76 x  76 x 128  0.379 BFLOPs\n",
            "  104 conv    256  3 x 3 / 1    76 x  76 x 128   ->    76 x  76 x 256  3.407 BFLOPs\n",
            "  105 conv     18  1 x 1 / 1    76 x  76 x 256   ->    76 x  76 x  18  0.053 BFLOPs\n",
            "  106 yolo\n",
            "Loading weights from ../backup/rsna_yolov3_15300.weights...Done!\n",
            "../test.jpg: Predicted in 0.091277 seconds.\n"
          ],
          "name": "stdout"
        }
      ]
    },
    {
      "cell_type": "code",
      "metadata": {
        "id": "kaXAjLWSOCgU",
        "colab_type": "code",
        "outputId": "01343140-8aa5-4baa-c028-0c3fd60a4d8e",
        "colab": {
          "base_uri": "https://localhost:8080/",
          "height": 287
        }
      },
      "source": [
        "# ![](predictions.jpg)\n",
        "plt.imshow(cv2.imread(\"./darknet/predictions.jpg\"))"
      ],
      "execution_count": 66,
      "outputs": [
        {
          "output_type": "execute_result",
          "data": {
            "text/plain": [
              "<matplotlib.image.AxesImage at 0x7fb123e97f28>"
            ]
          },
          "metadata": {
            "tags": []
          },
          "execution_count": 66
        },
        {
          "output_type": "display_data",
          "data": {
            "image/png": "[encoded data removed]",
            "text/plain": [
              "<Figure size 432x288 with 1 Axes>"
            ]
          },
          "metadata": {
            "tags": []
          }
        }
      ]
    },
    {
      "cell_type": "markdown",
      "metadata": {
        "id": "Y9_lGuG6BiQR",
        "colab_type": "text"
      },
      "source": [
        "## Generate Submission Files with YOLOv3 Python Wrapper"
      ]
    },
    {
      "cell_type": "code",
      "metadata": {
        "id": "h04c7koQOUCM",
        "colab_type": "code",
        "colab": {}
      },
      "source": [
        "!wget --no-check-certificate -q \"https://docs.google.com/uc?export=download&id=1-KTV7K9G1bl3SmnLnzmpkDyNt6tDmH7j\" -O darknet.py"
      ],
      "execution_count": 0,
      "outputs": []
    },
    {
      "cell_type": "markdown",
      "metadata": {
        "id": "oSPVzQcqBmxT",
        "colab_type": "text"
      },
      "source": [
        "### Load darknet python wrapper module"
      ]
    },
    {
      "cell_type": "code",
      "metadata": {
        "id": "RwOGxrpfOYRe",
        "colab_type": "code",
        "colab": {}
      },
      "source": [
        "from darknet import *"
      ],
      "execution_count": 0,
      "outputs": []
    },
    {
      "cell_type": "code",
      "metadata": {
        "id": "6xn6trkCOaMZ",
        "colab_type": "code",
        "colab": {}
      },
      "source": [
        "threshold = 0.2"
      ],
      "execution_count": 0,
      "outputs": []
    },
    {
      "cell_type": "code",
      "metadata": {
        "id": "yiPlxM9mObgJ",
        "colab_type": "code",
        "colab": {}
      },
      "source": [
        "submit_file_path = \"submission.csv\"\n",
        "cfg_path = os.path.join(cfg_dir, \"rsna_yolov3.cfg_test\")\n",
        "weight_path = os.path.join(backup_dir, \"rsna_yolov3_15300.weights\")\n",
        "\n",
        "test_img_list_path = os.path.join(metadata_dir, \"te_list.txt\")"
      ],
      "execution_count": 0,
      "outputs": []
    },
    {
      "cell_type": "code",
      "metadata": {
        "id": "fFRxle4AOct6",
        "colab_type": "code",
        "colab": {}
      },
      "source": [
        "gpu_index = 0\n",
        "net = load_net(cfg_path.encode(),\n",
        "               weight_path.encode(), \n",
        "               gpu_index)\n",
        "meta = load_meta(data_extention_file_path.encode())"
      ],
      "execution_count": 0,
      "outputs": []
    },
    {
      "cell_type": "code",
      "metadata": {
        "id": "QxYvfIWrOetA",
        "colab_type": "code",
        "outputId": "a77bc7d0-30a3-47ca-a70d-2b3f906f9af5",
        "colab": {
          "base_uri": "https://localhost:8080/",
          "height": 35
        }
      },
      "source": [
        "submit_dict = {\"patientId\": [], \"PredictionString\": []}\n",
        "\n",
        "with open(test_img_list_path, \"r\") as test_img_list_f:\n",
        "    # tqdm run up to 1000(The # of test set)\n",
        "    for line in tqdm(test_img_list_f):\n",
        "        patient_id = line.strip().split('/')[-1].strip().split('.')[0]\n",
        "\n",
        "        infer_result = detect(net, meta, line.strip().encode(), thresh=threshold)\n",
        "\n",
        "        submit_line = \"\"\n",
        "        for e in infer_result:\n",
        "            confi = e[1]\n",
        "            w = e[2][2]\n",
        "            h = e[2][3]\n",
        "            x = e[2][0]-w/2\n",
        "            y = e[2][1]-h/2\n",
        "            submit_line += \"{} {} {} {} {} \".format(confi, x, y, w, h)\n",
        "\n",
        "        submit_dict[\"patientId\"].append(patient_id)\n",
        "        submit_dict[\"PredictionString\"].append(submit_line)\n",
        "\n",
        "pd.DataFrame(submit_dict).to_csv(submit_file_path, index=False)"
      ],
      "execution_count": 72,
      "outputs": [
        {
          "output_type": "stream",
          "text": [
            "3000it [04:39, 10.72it/s]\n"
          ],
          "name": "stderr"
        }
      ]
    },
    {
      "cell_type": "code",
      "metadata": {
        "id": "TkFSX7RAOmO9",
        "colab_type": "code",
        "outputId": "c5e08c67-a414-49c8-d367-b04c28a13f96",
        "colab": {
          "base_uri": "https://localhost:8080/",
          "height": 476
        }
      },
      "source": [
        "!ls -alsht"
      ],
      "execution_count": 73,
      "outputs": [
        {
          "output_type": "stream",
          "text": [
            "total 3.9G\n",
            "272K -rw-r--r--  1 root root 272K May  6 03:03 submission.csv\n",
            "4.0K drwxr-xr-x 11 root root 4.0K May  6 03:03 .\n",
            "4.0K drwxr-xr-x  2 root root 4.0K May  6 02:58 __pycache__\n",
            "8.0K -rw-r--r--  1 root root 5.1K May  6 02:58 darknet.py\n",
            "4.0K drwxr-xr-x 13 root root 4.0K May  6 02:58 darknet\n",
            "4.0K drwxr-xr-x  2 root root 4.0K May  6 02:58 cfg\n",
            "4.0K drwxr-xr-x  2 root root 4.0K May  6 02:57 backup\n",
            "236K -rw-r--r--  1 root root 235K May  6 02:57 test.jpg\n",
            "8.9M -rw-r--r--  1 root root 8.9M May  6 02:57 train_log.txt\n",
            "612K drwxr-xr-x  2 root root 608K May  6 02:55 images\n",
            "4.0K drwxr-xr-x  2 root root 4.0K May  6 02:54 metadata\n",
            "416K drwxr-xr-x  2 root root 412K May  6 02:54 labels\n",
            "1.9M -rwxr-xr-x  1 root root 1.9M May  6 02:51 darknet_gpu\n",
            "1.7M drwxr-xr-x  2 root root 1.7M May  6 02:51 stage_2_train_images\n",
            "220K drwxr-xr-x  2 root root 220K May  6 02:50 stage_2_test_images\n",
            "4.0K -rw-r--r--  1 root root   55 May  6 02:50 GCP%20Credits%20Request%20Link%20-%20RSNA.txt\n",
            "3.3G -rw-r--r--  1 root root 3.3G May  6 02:50 stage_2_train_images.zip\n",
            "378M -rw-r--r--  1 root root 378M May  6 02:50 stage_2_test_images.zip\n",
            "664K -rw-r--r--  1 root root 662K May  6 02:50 stage_2_train_labels.csv.zip\n",
            "156K -rw-r--r--  1 root root 156K May  6 02:50 stage_2_sample_submission.csv\n",
            "584K -rw-r--r--  1 root root 584K May  6 02:50 stage_2_detailed_class_info.csv.zip\n",
            "4.0K drwxr-xr-x 11 root root 4.0K May  6 02:49 ..\n",
            "1.5M ----------  1 root root 1.5M Oct 25  2018 stage_2_train_labels.csv\n",
            "155M -rw-r--r--  1 root root 155M Mar 25  2018 darknet53.conv.74\n"
          ],
          "name": "stdout"
        }
      ]
    },
    {
      "cell_type": "code",
      "metadata": {
        "id": "sD6qslalGJCM",
        "colab_type": "code",
        "colab": {}
      },
      "source": [
        ""
      ],
      "execution_count": 0,
      "outputs": []
    }
  ]
}